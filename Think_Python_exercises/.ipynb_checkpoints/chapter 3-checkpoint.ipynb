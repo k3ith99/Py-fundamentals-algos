{
 "cells": [
  {
   "cell_type": "code",
   "execution_count": 20,
   "id": "a699eb47-8401-4d32-8960-157241e032a0",
   "metadata": {},
   "outputs": [],
   "source": [
    "def print_right(text):\n",
    "    length = len(text)\n",
    "    lead = 40 - length\n",
    "    empty_space = ' '*lead\n",
    "    new_text = empty_space + text\n",
    "    print(new_text)\n"
   ]
  },
  {
   "cell_type": "code",
   "execution_count": 28,
   "id": "236e11c7-f047-4aeb-918e-56999d677126",
   "metadata": {},
   "outputs": [],
   "source": [
    "def triangle(letter,height):\n",
    "    for i in range(height+1):\n",
    "        print(letter*i)\n"
   ]
  },
  {
   "cell_type": "code",
   "execution_count": 36,
   "id": "1fd31d2a-c1d7-446a-8f4a-d7f5400b15ae",
   "metadata": {},
   "outputs": [],
   "source": [
    "def rectangle(letter,width,height):\n",
    "    for i in range(height):\n",
    "        print(letter*width)\n"
   ]
  },
  {
   "cell_type": "code",
   "execution_count": 39,
   "id": "3a33b6a7-dc92-4107-9fb8-4fc21a6f748a",
   "metadata": {},
   "outputs": [],
   "source": [
    "def bottle_verse(number_of_bottles):\n",
    "    bottle_line(99,\"on the wall\")\n",
    "    bottle_line(99,\"\")\n",
    "    print(\"Take one down,pass it around\")\n",
    "    bottle_line(99,\"on the wall\")"
   ]
  },
  {
   "cell_type": "code",
   "execution_count": 40,
   "id": "70e14315-1220-4d0e-a2f8-a8a6d9e92b7e",
   "metadata": {},
   "outputs": [],
   "source": [
    "def bottle_line(number_of_bottles,suffix):\n",
    "    print(number_of_bottles,\"bottles of beer\",suffix)"
   ]
  },
  {
   "cell_type": "code",
   "execution_count": null,
   "id": "c08799ff-a519-4d8f-99f2-e4579d2e8ed7",
   "metadata": {},
   "outputs": [],
   "source": []
  }
 ],
 "metadata": {
  "kernelspec": {
   "display_name": "Python 3 (ipykernel)",
   "language": "python",
   "name": "python3"
  },
  "language_info": {
   "codemirror_mode": {
    "name": "ipython",
    "version": 3
   },
   "file_extension": ".py",
   "mimetype": "text/x-python",
   "name": "python",
   "nbconvert_exporter": "python",
   "pygments_lexer": "ipython3",
   "version": "3.9.1"
  }
 },
 "nbformat": 4,
 "nbformat_minor": 5
}
