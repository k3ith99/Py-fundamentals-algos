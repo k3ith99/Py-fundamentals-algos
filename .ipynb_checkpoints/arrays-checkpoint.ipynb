{
 "cells": [
  {
   "cell_type": "code",
   "execution_count": 3,
   "id": "97e2527b-3405-4d4f-a1af-4fc146904710",
   "metadata": {},
   "outputs": [
    {
     "name": "stdout",
     "output_type": "stream",
     "text": [
      "Requirement already satisfied: numpy in /Users/hamza/.local/share/virtualenvs/DS_ALGOS-fOVq79OU/lib/python3.9/site-packages (2.0.2)\n"
     ]
    }
   ],
   "source": [
    "!pip install numpy"
   ]
  },
  {
   "cell_type": "code",
   "execution_count": 1,
   "id": "aa651d5f-6787-497e-b8be-442c78c02eee",
   "metadata": {},
   "outputs": [
    {
     "ename": "ModuleNotFoundError",
     "evalue": "No module named 'numpy'",
     "output_type": "error",
     "traceback": [
      "\u001b[0;31m---------------------------------------------------------------------------\u001b[0m",
      "\u001b[0;31mModuleNotFoundError\u001b[0m                       Traceback (most recent call last)",
      "Cell \u001b[0;32mIn[1], line 1\u001b[0m\n\u001b[0;32m----> 1\u001b[0m \u001b[38;5;28;01mimport\u001b[39;00m \u001b[38;5;21;01mnumpy\u001b[39;00m\n",
      "\u001b[0;31mModuleNotFoundError\u001b[0m: No module named 'numpy'"
     ]
    }
   ],
   "source": [
    "import numpy"
   ]
  },
  {
   "cell_type": "code",
   "execution_count": null,
   "id": "ae39fd8e-242e-4ccc-8c60-f74200289cc0",
   "metadata": {},
   "outputs": [],
   "source": [
    "import sys\n",
    "print(sys.executable)\n"
   ]
  },
  {
   "cell_type": "raw",
   "id": "cfa995bd-424e-49ab-91cc-ad7e72b6ea5b",
   "metadata": {},
   "source": [
    "\n",
    "\n",
    "  Write a function that takes in a non-empty array of distinct integers and an\n",
    "  integer representing a target sum. If any two numbers in the input array sum\n",
    "  up to the target sum, the function should return them in an array, in any\n",
    "  order. If no two numbers sum up to the target sum, the function should return\n",
    "  an empty array.\n",
    "\n",
    "  You can assume that there will be at most one pair of numbers summing up to\n",
    "  the target sum.\n",
    " array = [3, 5, -4, 8, 11, 1, -1, 6]\n",
    "target_sum = 10\n",
    "\n",
    "[-1, 11] "
   ]
  },
  {
   "cell_type": "code",
   "execution_count": 5,
   "id": "333b6fa4-ab9f-4aa8-9b2f-278f8f69baef",
   "metadata": {},
   "outputs": [],
   "source": [
    "array = [3, 5, -4, 8, 11, 1, -1, 6]\n",
    "target_sum = 10\n",
    "from collections import defaultdict\n",
    "\n",
    "difference = defaultdict(list)\n",
    "#array2 = [target_sum - array[i] for i in range(len(array))]"
   ]
  },
  {
   "cell_type": "code",
   "execution_count": null,
   "id": "b04ea032-a123-4da0-80b9-b44673c1c552",
   "metadata": {},
   "outputs": [],
   "source": [
    "for i in range(len(array)):\n",
    "    array_no = array[i]\n",
    "    difference[array_no].append(target_sum - array[i])"
   ]
  },
  {
   "cell_type": "code",
   "execution_count": null,
   "id": "6602100b-6ba0-4f12-9b26-0b322ae41ab0",
   "metadata": {},
   "outputs": [],
   "source": [
    "for i in difference.items():\n",
    "    print(i)"
   ]
  },
  {
   "cell_type": "code",
   "execution_count": null,
   "id": "9de13727-eb98-41c2-8133-d1e74f452a31",
   "metadata": {},
   "outputs": [],
   "source": [
    "print(difference.values())"
   ]
  },
  {
   "cell_type": "code",
   "execution_count": null,
   "id": "09857f26-6de3-42fd-bfa6-e5fff666af8a",
   "metadata": {},
   "outputs": [],
   "source": [
    "def twoNumberSum(array, targetSum):\n",
    "    # Write your code here.\n",
    "    array2 = [target_sum - array[i] for i in range(len(array))]\n",
    "    answer = []\n",
    "    half = target_sum/2\n",
    "    for i in array2:\n",
    "        for j in array:\n",
    "            if i == j and i != half:\n",
    "                answer.append(i)\n",
    "    return answer"
   ]
  },
  {
   "cell_type": "raw",
   "id": "8d5e9002-a288-454d-9b06-35b6afa38e09",
   "metadata": {},
   "source": [
    "Given two non-empty arrays of integers, write a function that determines\n",
    "whether the second array is a subsequence of the first one.\n",
    "\n",
    "A subsequence of an array is a set of numbers that aren't necessarily adjacent\n",
    "in the array but that are in the same order as they appear in the array. \n",
    "For\n",
    "instance, the numbers [1, 3, 4] form a subsequence of the array [1, 2, 3, 4] , and so do the numbers . Note\n",
    "that a single number in an array and the array itself are both valid\n",
    "subsequences of the array.\n",
    "\n",
    "array = [5, 1, 22, 25, 6, -1, 8, 10]\n",
    "sequence = [1, 6, -1, 10]\n"
   ]
  },
  {
   "cell_type": "code",
   "execution_count": null,
   "id": "2f1c3961-ac85-4059-a92d-1dd065010aec",
   "metadata": {},
   "outputs": [],
   "source": [
    "def isValidSubsequence(array, sequence):\n",
    "    array2 = [array.index(i) for i in array]\n",
    "    x = zip(array,array2)\n",
    "    dict_array = dict(x)\n",
    "    array_seq = [dict_array[i] for i in sequence]\n",
    "    sorted_array = sorted(array_seq)\n",
    "    if array_seq == sorted_array:\n",
    "        return(True)\n"
   ]
  },
  {
   "cell_type": "code",
   "execution_count": null,
   "id": "afa3474e-9e2b-4c5d-9db4-dcd2ed1d10e8",
   "metadata": {},
   "outputs": [],
   "source": [
    "#"
   ]
  },
  {
   "cell_type": "code",
   "execution_count": null,
   "id": "9bfefae3-01bd-47bd-a4cd-f6361500a96f",
   "metadata": {},
   "outputs": [],
   "source": [
    "array = [5, 1, 22, 25, 6, -1, 8, 10]\n",
    "sequence = [1, 6, -1, 10]"
   ]
  },
  {
   "cell_type": "code",
   "execution_count": null,
   "id": "20d10ca1-8279-48a9-8900-d2ac67182991",
   "metadata": {},
   "outputs": [],
   "source": [
    "array2 = [array.index(i) for i in array]\n",
    "x = zip(array,array2)\n",
    "dict_array = dict(x)\n",
    "array_seq = [dict_array[i] for i in sequence]\n",
    "sorted_array = sorted(array_seq)\n",
    "if array_seq == sorted_array:\n",
    "    return(True)"
   ]
  },
  {
   "cell_type": "code",
   "execution_count": null,
   "id": "db3295cd-0a1f-4298-9c56-28e9cfca873f",
   "metadata": {},
   "outputs": [],
   "source": [
    "strs = [\"eat\",\"tea\",\"tan\",\"ate\",\"nat\",\"bat\"]\n",
    "from collections import defaultdict\n",
    "anagram_map = defaultdict(list)\n",
    "result = []"
   ]
  },
  {
   "cell_type": "code",
   "execution_count": null,
   "id": "b7729b16-f813-45db-a819-f62d1505d518",
   "metadata": {},
   "outputs": [],
   "source": [
    "for s in strs:\n",
    "    print(s)\n",
    "    sorted_s = tuple(sorted(s))\n",
    "    print(sorted_s)\n",
    "    anagram_map[sorted_s].append(s)\n",
    "    "
   ]
  },
  {
   "cell_type": "code",
   "execution_count": null,
   "id": "9138dcf8-7d26-4906-9d93-cc6c0acfc54b",
   "metadata": {},
   "outputs": [],
   "source": [
    "for i in anagram_map.items():\n",
    "    print(i)"
   ]
  },
  {
   "cell_type": "code",
   "execution_count": null,
   "id": "0297c983-a8d6-44dd-a1b5-e9068de1e5bb",
   "metadata": {},
   "outputs": [],
   "source": []
  }
 ],
 "metadata": {
  "kernelspec": {
   "display_name": "Python 3 (ipykernel)",
   "language": "python",
   "name": "python3"
  },
  "language_info": {
   "codemirror_mode": {
    "name": "ipython",
    "version": 3
   },
   "file_extension": ".py",
   "mimetype": "text/x-python",
   "name": "python",
   "nbconvert_exporter": "python",
   "pygments_lexer": "ipython3",
   "version": "3.12.6"
  }
 },
 "nbformat": 4,
 "nbformat_minor": 5
}
