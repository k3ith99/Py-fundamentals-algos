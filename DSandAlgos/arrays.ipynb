{
 "cells": [
  {
   "cell_type": "raw",
   "id": "cfa995bd-424e-49ab-91cc-ad7e72b6ea5b",
   "metadata": {},
   "source": [
    "\n",
    "\n",
    "  Write a function that takes in a non-empty array of distinct integers and an\n",
    "  integer representing a target sum. If any two numbers in the input array sum\n",
    "  up to the target sum, the function should return them in an array, in any\n",
    "  order. If no two numbers sum up to the target sum, the function should return\n",
    "  an empty array.\n",
    "\n",
    "  You can assume that there will be at most one pair of numbers summing up to\n",
    "  the target sum.\n",
    " array = [3, 5, -4, 8, 11, 1, -1, 6]\n",
    "target_sum = 10\n",
    "\n",
    "[-1, 11] "
   ]
  },
  {
   "cell_type": "code",
   "execution_count": 5,
   "id": "333b6fa4-ab9f-4aa8-9b2f-278f8f69baef",
   "metadata": {},
   "outputs": [],
   "source": [
    "from collections import defaultdict\n",
    "import numpy as np\n",
    "\n",
    "\n",
    "array = [3, 5, -4, 8, 11, 1, -1, 6]\n",
    "target_sum = 10\n",
    "difference = defaultdict(list)\n",
    "array2 = [target_sum - array[i] for i in range(len(array))]"
   ]
  },
  {
   "cell_type": "code",
   "execution_count": 6,
   "id": "b04ea032-a123-4da0-80b9-b44673c1c552",
   "metadata": {},
   "outputs": [],
   "source": [
    "for i in range(len(array)):\n",
    "    array_no = array[i]\n",
    "    difference[array_no].append(target_sum - array[i])"
   ]
  },
  {
   "cell_type": "code",
   "execution_count": 4,
   "id": "6602100b-6ba0-4f12-9b26-0b322ae41ab0",
   "metadata": {},
   "outputs": [
    {
     "name": "stdout",
     "output_type": "stream",
     "text": [
      "(3, [7])\n",
      "(5, [5])\n",
      "(-4, [14])\n",
      "(8, [2])\n",
      "(11, [-1])\n",
      "(1, [9])\n",
      "(-1, [11])\n",
      "(6, [4])\n"
     ]
    }
   ],
   "source": [
    "for i in difference.items():\n",
    "    print(i)"
   ]
  },
  {
   "cell_type": "code",
   "execution_count": 8,
   "id": "9de13727-eb98-41c2-8133-d1e74f452a31",
   "metadata": {},
   "outputs": [
    {
     "name": "stderr",
     "output_type": "stream",
     "text": [
      "/var/folders/h2/18kt26x549bcsnv5p3yl229w0000gn/T/ipykernel_59935/1082228664.py:1: DeprecationWarning: Calling nonzero on 0d arrays is deprecated, as it behaves surprisingly. Use `atleast_1d(cond).nonzero()` if the old behavior was intended. If the context of this warning is of the form `arr[nonzero(cond)]`, just use `arr[cond]`.\n",
      "  x = np.where((array2 == array))\n"
     ]
    },
    {
     "data": {
      "text/plain": [
       "(array([], dtype=int64),)"
      ]
     },
     "execution_count": 8,
     "metadata": {},
     "output_type": "execute_result"
    }
   ],
   "source": [
    "x = np.where((array2 == array))\n",
    "x"
   ]
  },
  {
   "cell_type": "code",
   "execution_count": null,
   "id": "09857f26-6de3-42fd-bfa6-e5fff666af8a",
   "metadata": {},
   "outputs": [],
   "source": [
    "def twoNumberSum(array, targetSum):\n",
    "    # Write your code here.\n",
    "    array2 = [target_sum - array[i] for i in range(len(array))]\n",
    "    answer = []\n",
    "    half = target_sum/2\n",
    "    for i in array2:\n",
    "        for j in array:\n",
    "            if i == j and i != half:\n",
    "                answer.append(i)\n",
    "    return answer"
   ]
  },
  {
   "cell_type": "raw",
   "id": "8d5e9002-a288-454d-9b06-35b6afa38e09",
   "metadata": {},
   "source": [
    "Given two non-empty arrays of integers, write a function that determines\n",
    "whether the second array is a subsequence of the first one.\n",
    "\n",
    "A subsequence of an array is a set of numbers that aren't necessarily adjacent\n",
    "in the array but that are in the same order as they appear in the array. \n",
    "For\n",
    "instance, the numbers [1, 3, 4] form a subsequence of the array [1, 2, 3, 4] , and so do the numbers . Note\n",
    "that a single number in an array and the array itself are both valid\n",
    "subsequences of the array.\n",
    "\n",
    "array = [5, 1, 22, 25, 6, -1, 8, 10]\n",
    "sequence = [1, 6, -1, 10]\n"
   ]
  },
  {
   "cell_type": "code",
   "execution_count": null,
   "id": "2f1c3961-ac85-4059-a92d-1dd065010aec",
   "metadata": {},
   "outputs": [],
   "source": [
    "def isValidSubsequence(array, sequence):\n",
    "    array2 = [array.index(i) for i in array]\n",
    "    x = zip(array,array2)\n",
    "    dict_array = dict(x)\n",
    "    array_seq = [dict_array[i] for i in sequence]\n",
    "    sorted_array = sorted(array_seq)\n",
    "    if array_seq == sorted_array:\n",
    "        return(True)\n"
   ]
  },
  {
   "cell_type": "code",
   "execution_count": 51,
   "id": "5f077e4f-6fb8-46e4-84cb-5e24da97993d",
   "metadata": {},
   "outputs": [],
   "source": [
    "array = [5, 1, 22, 25, 6, -1, 8, 10]\n",
    "sequence = [1, 6, -1, 10]"
   ]
  },
  {
   "cell_type": "code",
   "execution_count": 52,
   "id": "6c66299e-3560-4eaa-84df-b99a6ff68f34",
   "metadata": {},
   "outputs": [
    {
     "name": "stdout",
     "output_type": "stream",
     "text": [
      "5\n",
      "22\n",
      "6\n",
      "-1\n",
      "8\n"
     ]
    }
   ],
   "source": [
    "for i in array:\n",
    "    print(i)\n",
    "    if i not in sequence:\n",
    "        array.remove(i)\n"
   ]
  },
  {
   "cell_type": "code",
   "execution_count": 45,
   "id": "3c26bb07-5710-4147-9c23-db3301a4e2d4",
   "metadata": {},
   "outputs": [
    {
     "name": "stdout",
     "output_type": "stream",
     "text": [
      "[1, 6, -1, 10]\n"
     ]
    }
   ],
   "source": [
    "print(array)"
   ]
  },
  {
   "cell_type": "code",
   "execution_count": null,
   "id": "db3295cd-0a1f-4298-9c56-28e9cfca873f",
   "metadata": {},
   "outputs": [],
   "source": [
    "strs = [\"eat\",\"tea\",\"tan\",\"ate\",\"nat\",\"bat\"]\n",
    "from collections import defaultdict\n",
    "anagram_map = defaultdict(list)\n",
    "result = []"
   ]
  },
  {
   "cell_type": "code",
   "execution_count": null,
   "id": "b7729b16-f813-45db-a819-f62d1505d518",
   "metadata": {},
   "outputs": [],
   "source": [
    "for s in strs:\n",
    "    print(s)\n",
    "    sorted_s = tuple(sorted(s))\n",
    "    print(sorted_s)\n",
    "    anagram_map[sorted_s].append(s)\n",
    "    "
   ]
  },
  {
   "cell_type": "code",
   "execution_count": null,
   "id": "9138dcf8-7d26-4906-9d93-cc6c0acfc54b",
   "metadata": {},
   "outputs": [],
   "source": [
    "for i in anagram_map.items():\n",
    "    print(i)"
   ]
  },
  {
   "cell_type": "raw",
   "id": "a380f260-c5a3-40be-bb99-e77f23413b1d",
   "metadata": {},
   "source": [
    "Write a function that takes in a non-empty array of integers that are sorted in ascending order and returns a new array of the same length with the squares of the original integers also sorted in ascending order."
   ]
  },
  {
   "cell_type": "code",
   "execution_count": 3,
   "id": "485a6a9f-c072-4ea7-a578-00badff7e9f0",
   "metadata": {},
   "outputs": [],
   "source": [
    "array = [1,2,3,4,5,6,7,8,9]"
   ]
  },
  {
   "cell_type": "code",
   "execution_count": 4,
   "id": "7878a1a3-72d6-4dbb-92bc-b1992ca5b73b",
   "metadata": {},
   "outputs": [],
   "source": [
    "array_squared = []\n",
    "for i in array:\n",
    "    squared = i * i\n",
    "    array_squared.append(squared)"
   ]
  },
  {
   "cell_type": "code",
   "execution_count": 46,
   "id": "b9f7cc82-874e-4235-9eb1-9258c410dc81",
   "metadata": {},
   "outputs": [],
   "source": [
    "array_squared = [0] * len(array)"
   ]
  },
  {
   "cell_type": "code",
   "execution_count": 50,
   "id": "e207c54a-8955-4081-b36e-d1fdd86efe90",
   "metadata": {},
   "outputs": [],
   "source": [
    "#max_end = array[-1]\n",
    "#start = 0\n",
    "position = -1\n",
    "end = -1\n",
    "max_start = array[start]\n",
    "max_end = array[end]\n",
    "#array_squared = [0] * len(array)\n",
    "\n",
    "for i in array:\n",
    "    max_start = array[start]\n",
    "    max_end = array[end]\n",
    "    if (max_end**2) >= (max_start**2):\n",
    "        array_squared[position] = max_end**2\n",
    "        position -=1\n",
    "        end-=1\n",
    "\n",
    "    else:\n",
    "        array_squared[position] = max_start**2\n",
    "        position -=1\n",
    "        start +=1\n",
    "\n",
    "        \n",
    "        \n",
    "        \n",
    "    \n",
    "    \n",
    "    "
   ]
  },
  {
   "cell_type": "code",
   "execution_count": 45,
   "id": "ea6be223-73fe-480c-89ea-0a808d9ecc87",
   "metadata": {},
   "outputs": [
    {
     "data": {
      "text/plain": [
       "8"
      ]
     },
     "execution_count": 45,
     "metadata": {},
     "output_type": "execute_result"
    }
   ],
   "source": [
    "array[-2]"
   ]
  },
  {
   "cell_type": "code",
   "execution_count": 48,
   "id": "c2ff0e5b-8537-40ab-9e76-e9fb82dafd7c",
   "metadata": {},
   "outputs": [
    {
     "data": {
      "text/plain": [
       "[1, 4, 9, 16, 25, 36, 49, 64, 81]"
      ]
     },
     "execution_count": 48,
     "metadata": {},
     "output_type": "execute_result"
    }
   ],
   "source": [
    "array_squared"
   ]
  },
  {
   "cell_type": "raw",
   "id": "52e036d0-f67a-467a-ac20-af6044501734",
   "metadata": {},
   "source": [
    "There's an algorithms tournament taking place in which teams of programmers compete against each other to solve algorithmic problems as fast as possible. Teams compete in a round robin, where each team faces off against all other teams. Only two teams compete against each other at a time, and for each competition, one team is designated the home team, while the other team is the away team. In each competition there's always one winner and one loser; there are no ties. A team receives 3 points if it wins and 0 points if it loses. The winner of the tournament is the team that receives the most amount of points.\n",
    "Given an array of pairs representing the teams that have competed against each other and an array containing the results of each competition, write a function that returns the winner of the tournament. The input arrays are named competitions and results, respectively. The competitions array has elements in the form of [homeTeam, awayTeam] , where each team is a string of at most 30 characters representing the name of the team. The results array contains information about the winner of each corresponding competition in the competitions array. Specifically, results[il denotes the winner of competitions[1], where a 1 in the results array means that the home team in the corresponding competition won and a o means that the\n",
    "away team won.\n",
    "It's guaranteed that exactly one team will win the tournament and that each team will compete against all other teams exactly once. It's also guaranteed that the tournament will always have at least two teams."
   ]
  },
  {
   "cell_type": "code",
   "execution_count": 65,
   "id": "1f5288c0-e6a6-46d9-b139-2cfb52f970a6",
   "metadata": {},
   "outputs": [],
   "source": [
    "from collections import defaultdict"
   ]
  },
  {
   "cell_type": "code",
   "execution_count": 98,
   "id": "6e50d5ef-f62e-4096-8a8d-b8a3d8f943ba",
   "metadata": {},
   "outputs": [],
   "source": [
    "competitions = [\n",
    "[\"HTML\", \"C#\"],\n",
    "[\"C#\",\n",
    "\"Python\"],\n",
    "[\"Python\", \"HTML\"],]\n",
    "results = [0,0,1]"
   ]
  },
  {
   "cell_type": "code",
   "execution_count": 67,
   "id": "fa738765-476f-4234-beb4-515a298c6b2b",
   "metadata": {},
   "outputs": [],
   "source": [
    "competition_index = 0\n",
    "results_index = 0"
   ]
  },
  {
   "cell_type": "code",
   "execution_count": 99,
   "id": "505731ab-4e5e-4c05-a588-2950d93ffed7",
   "metadata": {},
   "outputs": [],
   "source": [
    "comp_dict = defaultdict(int)"
   ]
  },
  {
   "cell_type": "code",
   "execution_count": 100,
   "id": "12d701a8-b47b-47ee-a2dc-3d60b373683c",
   "metadata": {
    "scrolled": true
   },
   "outputs": [],
   "source": [
    "from collections import defaultdict\n",
    "comp_dict = defaultdict(int)\n",
    "results_index = 0\n",
    "for game in competitions:\n",
    "    if results[results_index] == 1:\n",
    "        comp_dict[game[0]] += 3\n",
    "    else:\n",
    "        comp_dict[game[1]] += 3\n",
    "    results_index += 1\n",
    "winner = max(comp_dict.values())\n",
    "for i in comp_dict:\n",
    "    if comp_dict[i] == winner:\n",
    "        print(i)\n",
    "        break   "
   ]
  },
  {
   "cell_type": "code",
   "execution_count": 106,
   "id": "741b4b8d-ff94-40a0-8108-33c837929ad9",
   "metadata": {},
   "outputs": [
    {
     "name": "stdout",
     "output_type": "stream",
     "text": [
      "Python\n"
     ]
    }
   ],
   "source": [
    "winner = max(comp_dict.values())\n",
    "for i in comp_dict:\n",
    "    if comp_dict[i] == winner:\n",
    "        print(i)\n",
    "        break"
   ]
  },
  {
   "cell_type": "code",
   "execution_count": 107,
   "id": "4b9c327e-fa26-400a-8f98-1d2caa09bc05",
   "metadata": {},
   "outputs": [
    {
     "data": {
      "text/plain": [
       "defaultdict(int, {'C#': 3, 'Python': 6})"
      ]
     },
     "execution_count": 107,
     "metadata": {},
     "output_type": "execute_result"
    }
   ],
   "source": [
    "comp_dict"
   ]
  },
  {
   "cell_type": "raw",
   "id": "b81d321a-6c78-40d0-aa72-93868d781632",
   "metadata": {},
   "source": [
    "Given an array of positive integers representing the values of coins in your possession, write a function that returns the minimum amount of change (the minimum sum of money) that you cannot create. The given coins can have any positive integer value and aren't necessarily unique (i.e., you can have multiple coins of the same value).\n",
    "For example, if you're given coins = [1, 2, 5], the minimum amount of change that you can't create is 4.\n",
    "If you're given no coins, the minimum amount of change that you can't create is 1 ."
   ]
  },
  {
   "cell_type": "code",
   "execution_count": 12,
   "id": "f16cfd70-cf25-469d-a879-8e8f18bd51c3",
   "metadata": {},
   "outputs": [],
   "source": [
    "coins = [5,7,1,1,2,3,22]\n",
    "coins2 = [1, 2, 5]"
   ]
  },
  {
   "cell_type": "code",
   "execution_count": 6,
   "id": "0849730d-bed5-44e6-8943-1b20bf8e1b1c",
   "metadata": {},
   "outputs": [],
   "source": [
    "coins.sort()"
   ]
  },
  {
   "cell_type": "code",
   "execution_count": 7,
   "id": "2960662d-cc47-462a-942f-dee7ca04df81",
   "metadata": {},
   "outputs": [
    {
     "data": {
      "text/plain": [
       "[1, 1, 2, 3, 5, 7, 22]"
      ]
     },
     "execution_count": 7,
     "metadata": {},
     "output_type": "execute_result"
    }
   ],
   "source": [
    "x = []"
   ]
  },
  {
   "cell_type": "code",
   "execution_count": 18,
   "id": "65370bea-fe2c-453e-84d1-6b66c7aaefbb",
   "metadata": {},
   "outputs": [
    {
     "name": "stdout",
     "output_type": "stream",
     "text": [
      "3\n",
      "7\n"
     ]
    }
   ],
   "source": [
    "minimum = 1\n",
    "for i in range(0,len(coins2)-1):\n",
    "    y = coins2[i] + coins2[i+1]\n",
    "    print(y)"
   ]
  },
  {
   "cell_type": "raw",
   "id": "c4bb10ff-73a6-4883-b61a-3149b3f3f7ad",
   "metadata": {},
   "source": [
    "Transpose"
   ]
  },
  {
   "cell_type": "code",
   "execution_count": 130,
   "id": "e5248362-f3d7-4d9c-9847-a332c414dddd",
   "metadata": {},
   "outputs": [],
   "source": [
    "input = [\n",
    "    [1, 2],\n",
    "]\n",
    "mat = [[0]*y]*x\n",
    "mat = [[0] * y for i in range(x)]"
   ]
  },
  {
   "cell_type": "code",
   "execution_count": 131,
   "id": "e3ac542c-178e-4928-bfd4-a1b1bc6a6f22",
   "metadata": {},
   "outputs": [],
   "source": [
    "#initialise empty matrix where that is a y by x\n",
    "input = [\n",
    "    [1, 2],\n",
    "]\n",
    "mat = [[0] * y for i in range(x)]\n",
    "x = len(input[0]) #rows\n",
    "y = len(input) #columns\n",
    "for i in range(0,y):\n",
    "    for j in range(0,x):\n",
    "        mat[j][i] = input[i][j]"
   ]
  },
  {
   "cell_type": "code",
   "execution_count": 123,
   "id": "ee97ecfc-f8a8-481d-901d-0c044ffc0cec",
   "metadata": {},
   "outputs": [],
   "source": [
    "x = len(input[0]) #rows\n",
    "y = len(input) #columns"
   ]
  },
  {
   "cell_type": "code",
   "execution_count": 128,
   "id": "52b471ba-a93d-4230-95b7-e0150e842fab",
   "metadata": {},
   "outputs": [],
   "source": [
    "for i in range(0,y):\n",
    "    for j in range(0,x):\n",
    "        mat[j][i] = input[i][j]\n",
    "        \n",
    "        "
   ]
  },
  {
   "cell_type": "code",
   "execution_count": 132,
   "id": "b8a26a92-7ef6-4f24-8ec9-14137a289b34",
   "metadata": {},
   "outputs": [
    {
     "data": {
      "text/plain": [
       "[[1], [2]]"
      ]
     },
     "execution_count": 132,
     "metadata": {},
     "output_type": "execute_result"
    }
   ],
   "source": [
    "mat"
   ]
  },
  {
   "cell_type": "code",
   "execution_count": 126,
   "id": "0f04da98-ddd8-48f0-906b-3584e42bccc6",
   "metadata": {},
   "outputs": [
    {
     "data": {
      "text/plain": [
       "[[2], [2]]"
      ]
     },
     "execution_count": 126,
     "metadata": {},
     "output_type": "execute_result"
    }
   ],
   "source": [
    "mat"
   ]
  },
  {
   "cell_type": "code",
   "execution_count": 71,
   "id": "d8209662-b733-44c5-861c-f7bbd42365c0",
   "metadata": {},
   "outputs": [],
   "source": [
    "array = [65,2,1,2,2,2,3,4,2]\n",
    "toMove = 2"
   ]
  },
  {
   "cell_type": "code",
   "execution_count": 57,
   "id": "76e8d01a-a36d-49b6-9f30-9656cfee24e9",
   "metadata": {},
   "outputs": [],
   "source": [
    "counter = 0\n",
    "new_array = []\n",
    "while counter < len(array):\n",
    "    moving = array[counter]\n",
    "    if array[counter] == toMove:\n",
    "        new_array.insert(len(new_array),moving)\n",
    "        counter += 1\n",
    "    else:\n",
    "        new_array.insert(0,moving)\n",
    "        counter +=1"
   ]
  },
  {
   "cell_type": "code",
   "execution_count": 72,
   "id": "4264e54d-0e06-435c-968a-c9f74bcbb391",
   "metadata": {},
   "outputs": [],
   "source": [
    "leftpointer = 0\n",
    "rightpointer = len(array) - 1\n",
    "while rightpointer > leftpointer:\n",
    "    leftvalue = array[leftpointer]\n",
    "    rightvalue = array[rightpointer]\n",
    "    if array[leftpointer] == toMove and array[rightpointer] != toMove:\n",
    "        array[leftpointer] =rightvalue\n",
    "        array[rightpointer] = leftvalue\n",
    "        leftpointer += 1\n",
    "        rightpointer -=1\n",
    "    elif array[leftpointer] != toMove:\n",
    "        leftpointer += 1\n",
    "    else:\n",
    "        rightpointer -= 1"
   ]
  },
  {
   "cell_type": "code",
   "execution_count": 73,
   "id": "d862c090-b02a-4925-94fd-0008b6bdc358",
   "metadata": {},
   "outputs": [
    {
     "data": {
      "text/plain": [
       "[65, 4, 1, 3, 2, 2, 2, 2, 2]"
      ]
     },
     "execution_count": 73,
     "metadata": {},
     "output_type": "execute_result"
    }
   ],
   "source": [
    "array"
   ]
  },
  {
   "cell_type": "code",
   "execution_count": 1,
   "id": "e4b98546-9709-41ea-9d8a-3c32d514c7c6",
   "metadata": {},
   "outputs": [],
   "source": [
    "array = [-1, -5, -10, -1100, -1100, -1101, -1102, -9001]"
   ]
  },
  {
   "cell_type": "code",
   "execution_count": 7,
   "id": "16ee8c46-df69-48ef-8385-29dce37d4c70",
   "metadata": {},
   "outputs": [
    {
     "name": "stdout",
     "output_type": "stream",
     "text": [
      "True\n"
     ]
    }
   ],
   "source": [
    "pointer = 1\n",
    "non_increasing = 0\n",
    "non_decreasing = 0\n",
    "equal = 0\n",
    "if len(array) <= 1:\n",
    "    return True\n",
    "while pointer < len(array):\n",
    "    if array[pointer] < array[(pointer - 1)]:\n",
    "        non_increasing += 1\n",
    "        pointer +=1\n",
    "    elif array[pointer] > array[(pointer - 1)]:\n",
    "        non_decreasing += 1\n",
    "        pointer +=1\n",
    "    else:\n",
    "        equal += 1\n",
    "        pointer +=1\n",
    "    \n",
    "non_increasing = non_increasing +equal\n",
    "non_decreasing = non_decreasing + equal\n",
    "if non_increasing == len(array) - 1 or non_decreasing == len(array) - 1 :\n",
    "    print(True)\n",
    "else:\n",
    "    Print(False)"
   ]
  },
  {
   "cell_type": "code",
   "execution_count": 5,
   "id": "2828da24-e4e0-4229-9144-759c5dfad274",
   "metadata": {},
   "outputs": [
    {
     "data": {
      "text/plain": [
       "1"
      ]
     },
     "execution_count": 5,
     "metadata": {},
     "output_type": "execute_result"
    }
   ],
   "source": [
    "equal"
   ]
  },
  {
   "cell_type": "code",
   "execution_count": 2,
   "id": "8e662254-697d-4d79-bfa0-e05edea03553",
   "metadata": {},
   "outputs": [],
   "source": [
    "array =  [\n",
    "  [1,   2,  3, 4],\n",
    "  [12, 13, 14, 5],\n",
    "  [11, 16, 15, 6],\n",
    "  [10,  9,  8, 7],\n",
    "]"
   ]
  },
  {
   "cell_type": "code",
   "execution_count": null,
   "id": "ae03d861-af77-491d-baa5-57f9c68c01ac",
   "metadata": {},
   "outputs": [],
   "source": []
  }
 ],
 "metadata": {
  "kernelspec": {
   "display_name": "Python 3 (ipykernel)",
   "language": "python",
   "name": "python3"
  },
  "language_info": {
   "codemirror_mode": {
    "name": "ipython",
    "version": 3
   },
   "file_extension": ".py",
   "mimetype": "text/x-python",
   "name": "python",
   "nbconvert_exporter": "python",
   "pygments_lexer": "ipython3",
   "version": "3.9.1"
  }
 },
 "nbformat": 4,
 "nbformat_minor": 5
}
